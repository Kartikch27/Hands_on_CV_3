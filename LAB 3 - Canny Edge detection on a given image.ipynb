{
 "cells": [
  {
   "cell_type": "code",
   "execution_count": 2,
   "id": "71283212",
   "metadata": {},
   "outputs": [],
   "source": [
    "import cv2"
   ]
  },
  {
   "cell_type": "code",
   "execution_count": 3,
   "id": "ad97fbc9",
   "metadata": {},
   "outputs": [],
   "source": [
    "img = cv2.imread('demo_face.jpg')"
   ]
  },
  {
   "cell_type": "code",
   "execution_count": 4,
   "id": "cb1ff08d",
   "metadata": {},
   "outputs": [],
   "source": [
    "t_lower = 50  # Lower Threshold\n",
    "t_upper = 150  # Upper threshold"
   ]
  },
  {
   "cell_type": "code",
   "execution_count": 5,
   "id": "9ba30bfc",
   "metadata": {},
   "outputs": [],
   "source": [
    "edge = cv2.Canny(img, t_lower, t_upper)"
   ]
  },
  {
   "cell_type": "code",
   "execution_count": 6,
   "id": "b1287462",
   "metadata": {},
   "outputs": [],
   "source": [
    "cv2.imshow('original', img)\n",
    "cv2.imshow('edge', edge)"
   ]
  },
  {
   "cell_type": "code",
   "execution_count": null,
   "id": "504000eb",
   "metadata": {},
   "outputs": [],
   "source": []
  }
 ],
 "metadata": {
  "kernelspec": {
   "display_name": "Python 3 (ipykernel)",
   "language": "python",
   "name": "python3"
  },
  "language_info": {
   "codemirror_mode": {
    "name": "ipython",
    "version": 3
   },
   "file_extension": ".py",
   "mimetype": "text/x-python",
   "name": "python",
   "nbconvert_exporter": "python",
   "pygments_lexer": "ipython3",
   "version": "3.11.5"
  }
 },
 "nbformat": 4,
 "nbformat_minor": 5
}
